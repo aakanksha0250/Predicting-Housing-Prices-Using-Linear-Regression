{
 "cells": [
  {
   "cell_type": "markdown",
   "metadata": {},
   "source": [
    "##### NAME - AAKANKSHA BHAGURE\n",
    "##### Roll no -21102A0050\n",
    "#### Git hub link -  https://github.com/aakanksha0250/Predicting-Housing-Prices-Using-Linear-Regression.git"
   ]
  },
  {
   "cell_type": "code",
   "execution_count": null,
   "metadata": {
    "execution": {
     "iopub.execute_input": "2024-07-13T14:37:26.967521Z",
     "iopub.status.busy": "2024-07-13T14:37:26.967163Z",
     "iopub.status.idle": "2024-07-13T14:37:26.973083Z",
     "shell.execute_reply": "2024-07-13T14:37:26.971692Z",
     "shell.execute_reply.started": "2024-07-13T14:37:26.967494Z"
    }
   },
   "outputs": [],
   "source": [
    "import pandas as pd\n",
    "import numpy as np\n",
    "import matplotlib.pyplot as plt\n",
    "import seaborn as sns"
   ]
  },
  {
   "cell_type": "code",
   "execution_count": null,
   "metadata": {
    "execution": {
     "iopub.execute_input": "2024-07-13T14:37:26.975866Z",
     "iopub.status.busy": "2024-07-13T14:37:26.975393Z",
     "iopub.status.idle": "2024-07-13T14:37:27.049677Z",
     "shell.execute_reply": "2024-07-13T14:37:27.048612Z",
     "shell.execute_reply.started": "2024-07-13T14:37:26.975824Z"
    }
   },
   "outputs": [],
   "source": [
    "data = pd.read_csv(\"housing.csv\")\n",
    "data.shape"
   ]
  },
  {
   "cell_type": "code",
   "execution_count": null,
   "metadata": {
    "execution": {
     "iopub.execute_input": "2024-07-13T14:37:27.051944Z",
     "iopub.status.busy": "2024-07-13T14:37:27.051574Z",
     "iopub.status.idle": "2024-07-13T14:37:27.096061Z",
     "shell.execute_reply": "2024-07-13T14:37:27.094693Z",
     "shell.execute_reply.started": "2024-07-13T14:37:27.051915Z"
    }
   },
   "outputs": [],
   "source": [
    "data"
   ]
  },
  {
   "cell_type": "code",
   "execution_count": null,
   "metadata": {
    "execution": {
     "iopub.execute_input": "2024-07-13T14:37:27.097986Z",
     "iopub.status.busy": "2024-07-13T14:37:27.097522Z",
     "iopub.status.idle": "2024-07-13T14:37:27.126723Z",
     "shell.execute_reply": "2024-07-13T14:37:27.125515Z",
     "shell.execute_reply.started": "2024-07-13T14:37:27.097929Z"
    }
   },
   "outputs": [],
   "source": [
    "data.info()"
   ]
  },
  {
   "cell_type": "markdown",
   "metadata": {},
   "source": [
    "- We can see that that in the column 'total_bedrooms', there is about 200 null-value data points. \n",
    "\n",
    "- We can either impute them with the median or drop the rows. Either approach would work for our task."
   ]
  },
  {
   "cell_type": "code",
   "execution_count": null,
   "metadata": {
    "execution": {
     "iopub.execute_input": "2024-07-13T14:37:27.12964Z",
     "iopub.status.busy": "2024-07-13T14:37:27.129259Z",
     "iopub.status.idle": "2024-07-13T14:37:27.186527Z",
     "shell.execute_reply": "2024-07-13T14:37:27.185379Z",
     "shell.execute_reply.started": "2024-07-13T14:37:27.129588Z"
    }
   },
   "outputs": [],
   "source": [
    "data.describe()"
   ]
  },
  {
   "cell_type": "code",
   "execution_count": null,
   "metadata": {
    "execution": {
     "iopub.execute_input": "2024-07-13T14:37:27.188443Z",
     "iopub.status.busy": "2024-07-13T14:37:27.188141Z",
     "iopub.status.idle": "2024-07-13T14:37:27.196673Z",
     "shell.execute_reply": "2024-07-13T14:37:27.195521Z",
     "shell.execute_reply.started": "2024-07-13T14:37:27.188416Z"
    }
   },
   "outputs": [],
   "source": [
    "data.dropna(inplace=True)"
   ]
  },
  {
   "cell_type": "code",
   "execution_count": null,
   "metadata": {
    "execution": {
     "iopub.execute_input": "2024-07-13T14:37:27.198289Z",
     "iopub.status.busy": "2024-07-13T14:37:27.197927Z",
     "iopub.status.idle": "2024-07-13T14:37:27.215229Z",
     "shell.execute_reply": "2024-07-13T14:37:27.214188Z",
     "shell.execute_reply.started": "2024-07-13T14:37:27.198261Z"
    }
   },
   "outputs": [],
   "source": [
    "data.info()"
   ]
  },
  {
   "cell_type": "code",
   "execution_count": null,
   "metadata": {
    "execution": {
     "iopub.execute_input": "2024-07-13T14:37:27.216823Z",
     "iopub.status.busy": "2024-07-13T14:37:27.216487Z",
     "iopub.status.idle": "2024-07-13T14:37:27.465165Z",
     "shell.execute_reply": "2024-07-13T14:37:27.464151Z",
     "shell.execute_reply.started": "2024-07-13T14:37:27.216794Z"
    }
   },
   "outputs": [],
   "source": [
    "from sklearn.model_selection import train_test_split\n",
    "\n",
    "X = data.drop(['median_house_value'], axis=1)\n",
    "y = data['median_house_value']\n",
    "\n",
    "X_train, X_test, y_train, y_test = train_test_split(X, y, test_size = 0.2)\n",
    "\n",
    "train_data = X_train.join(y_train)\n",
    "\n",
    "train_data"
   ]
  },
  {
   "cell_type": "code",
   "execution_count": null,
   "metadata": {
    "execution": {
     "iopub.execute_input": "2024-07-13T14:37:27.466921Z",
     "iopub.status.busy": "2024-07-13T14:37:27.466549Z",
     "iopub.status.idle": "2024-07-13T14:37:29.509167Z",
     "shell.execute_reply": "2024-07-13T14:37:29.507891Z",
     "shell.execute_reply.started": "2024-07-13T14:37:27.466892Z"
    }
   },
   "outputs": [],
   "source": [
    "train_data.hist(figsize=(15,8),color = \"pink\",edgecolor = \"black\")"
   ]
  },
  {
   "cell_type": "code",
   "execution_count": null,
   "metadata": {
    "execution": {
     "iopub.execute_input": "2024-07-13T14:37:29.511436Z",
     "iopub.status.busy": "2024-07-13T14:37:29.510589Z",
     "iopub.status.idle": "2024-07-13T14:37:30.048304Z",
     "shell.execute_reply": "2024-07-13T14:37:30.04711Z",
     "shell.execute_reply.started": "2024-07-13T14:37:29.511403Z"
    }
   },
   "outputs": [],
   "source": [
    "temp_train_data = train_data.drop(['ocean_proximity'], axis=1)\n",
    "plt.figure(figsize=(15,8))\n",
    "sns.heatmap(temp_train_data.corr(), annot=True, cmap=\"RdPu\")\n",
    "plt.show()"
   ]
  },
  {
   "cell_type": "code",
   "execution_count": null,
   "metadata": {
    "execution": {
     "iopub.execute_input": "2024-07-13T14:37:30.052338Z",
     "iopub.status.busy": "2024-07-13T14:37:30.051957Z",
     "iopub.status.idle": "2024-07-13T14:37:30.061931Z",
     "shell.execute_reply": "2024-07-13T14:37:30.060904Z",
     "shell.execute_reply.started": "2024-07-13T14:37:30.052306Z"
    }
   },
   "outputs": [],
   "source": [
    "train_data['total_rooms'] = np.log(train_data['total_rooms'] + 1)\n",
    "train_data['total_bedrooms'] = np.log(train_data['total_bedrooms'] + 1)\n",
    "train_data['population'] = np.log(train_data['population'] + 1)\n",
    "train_data['households'] = np.log(train_data['households'] + 1)"
   ]
  },
  {
   "cell_type": "code",
   "execution_count": null,
   "metadata": {
    "execution": {
     "iopub.execute_input": "2024-07-13T14:37:30.063761Z",
     "iopub.status.busy": "2024-07-13T14:37:30.063287Z",
     "iopub.status.idle": "2024-07-13T14:37:31.574292Z",
     "shell.execute_reply": "2024-07-13T14:37:31.573055Z",
     "shell.execute_reply.started": "2024-07-13T14:37:30.063719Z"
    }
   },
   "outputs": [],
   "source": [
    "train_data.hist(figsize=(15,8) ,color = \"purple\", edgecolor = \"black\")\n",
    "plt.show()"
   ]
  },
  {
   "cell_type": "code",
   "execution_count": null,
   "metadata": {
    "execution": {
     "iopub.execute_input": "2024-07-13T14:37:31.57605Z",
     "iopub.status.busy": "2024-07-13T14:37:31.575662Z",
     "iopub.status.idle": "2024-07-13T14:37:31.585684Z",
     "shell.execute_reply": "2024-07-13T14:37:31.584625Z",
     "shell.execute_reply.started": "2024-07-13T14:37:31.57602Z"
    }
   },
   "outputs": [],
   "source": [
    "train_data.ocean_proximity.value_counts()"
   ]
  },
  {
   "cell_type": "code",
   "execution_count": null,
   "metadata": {
    "execution": {
     "iopub.execute_input": "2024-07-13T14:37:31.587594Z",
     "iopub.status.busy": "2024-07-13T14:37:31.587175Z",
     "iopub.status.idle": "2024-07-13T14:37:31.60428Z",
     "shell.execute_reply": "2024-07-13T14:37:31.602985Z",
     "shell.execute_reply.started": "2024-07-13T14:37:31.587555Z"
    }
   },
   "outputs": [],
   "source": [
    "train_data = train_data.join(pd.get_dummies(train_data.ocean_proximity)).drop(['ocean_proximity'], axis=1)"
   ]
  },
  {
   "cell_type": "code",
   "execution_count": null,
   "metadata": {
    "execution": {
     "iopub.execute_input": "2024-07-13T14:37:31.608549Z",
     "iopub.status.busy": "2024-07-13T14:37:31.607565Z",
     "iopub.status.idle": "2024-07-13T14:37:31.632098Z",
     "shell.execute_reply": "2024-07-13T14:37:31.630839Z",
     "shell.execute_reply.started": "2024-07-13T14:37:31.608508Z"
    }
   },
   "outputs": [],
   "source": [
    "train_data"
   ]
  },
  {
   "cell_type": "code",
   "execution_count": null,
   "metadata": {
    "execution": {
     "iopub.execute_input": "2024-07-13T14:37:31.634074Z",
     "iopub.status.busy": "2024-07-13T14:37:31.633585Z",
     "iopub.status.idle": "2024-07-13T14:37:32.656909Z",
     "shell.execute_reply": "2024-07-13T14:37:32.655704Z",
     "shell.execute_reply.started": "2024-07-13T14:37:31.634031Z"
    }
   },
   "outputs": [],
   "source": [
    "plt.figure(figsize=(15,8))\n",
    "sns.heatmap(train_data.corr(), annot=True, cmap=\"RdPu\")\n",
    "plt.show()"
   ]
  },
  {
   "cell_type": "code",
   "execution_count": null,
   "metadata": {
    "execution": {
     "iopub.execute_input": "2024-07-13T14:37:32.658565Z",
     "iopub.status.busy": "2024-07-13T14:37:32.658248Z",
     "iopub.status.idle": "2024-07-13T14:37:34.342506Z",
     "shell.execute_reply": "2024-07-13T14:37:34.341098Z",
     "shell.execute_reply.started": "2024-07-13T14:37:32.658538Z"
    }
   },
   "outputs": [],
   "source": [
    "plt.figure(figsize=(15,8))\n",
    "sns.scatterplot(x='latitude', y='longitude', data=train_data, hue='median_house_value', palette='RdPu')"
   ]
  },
  {
   "cell_type": "code",
   "execution_count": null,
   "metadata": {
    "execution": {
     "iopub.execute_input": "2024-07-13T14:37:34.344164Z",
     "iopub.status.busy": "2024-07-13T14:37:34.343816Z",
     "iopub.status.idle": "2024-07-13T14:37:34.352677Z",
     "shell.execute_reply": "2024-07-13T14:37:34.351509Z",
     "shell.execute_reply.started": "2024-07-13T14:37:34.344134Z"
    }
   },
   "outputs": [],
   "source": [
    "train_data['bedroom_ratio'] = train_data['total_bedrooms'] / train_data['total_rooms']\n",
    "train_data['household_rooms'] = train_data['total_rooms'] / train_data['households']"
   ]
  },
  {
   "cell_type": "code",
   "execution_count": null,
   "metadata": {
    "execution": {
     "iopub.execute_input": "2024-07-13T14:37:34.354879Z",
     "iopub.status.busy": "2024-07-13T14:37:34.354141Z",
     "iopub.status.idle": "2024-07-13T14:37:35.405421Z",
     "shell.execute_reply": "2024-07-13T14:37:35.403944Z",
     "shell.execute_reply.started": "2024-07-13T14:37:34.354835Z"
    }
   },
   "outputs": [],
   "source": [
    "plt.figure(figsize=(15,8))\n",
    "sns.heatmap(train_data.corr(), annot=True, cmap=\"RdPu\")\n",
    "plt.show()"
   ]
  },
  {
   "cell_type": "code",
   "execution_count": null,
   "metadata": {
    "execution": {
     "iopub.execute_input": "2024-07-13T14:37:35.40714Z",
     "iopub.status.busy": "2024-07-13T14:37:35.406748Z",
     "iopub.status.idle": "2024-07-13T14:37:35.544338Z",
     "shell.execute_reply": "2024-07-13T14:37:35.542889Z",
     "shell.execute_reply.started": "2024-07-13T14:37:35.40711Z"
    }
   },
   "outputs": [],
   "source": [
    "from sklearn.linear_model import LinearRegression\n",
    "from sklearn.preprocessing import StandardScaler\n",
    "\n",
    "scaler =StandardScaler()\n",
    "\n",
    "X_train, y_train = train_data.drop(['median_house_value'], axis=1), train_data['median_house_value']\n",
    "X_train_s = scaler.fit_transform(X_train)\n",
    "\n",
    "\n"
   ]
  },
  {
   "cell_type": "code",
   "execution_count": null,
   "metadata": {
    "execution": {
     "iopub.execute_input": "2024-07-13T14:37:35.54614Z",
     "iopub.status.busy": "2024-07-13T14:37:35.545763Z",
     "iopub.status.idle": "2024-07-13T14:37:35.596004Z",
     "shell.execute_reply": "2024-07-13T14:37:35.594558Z",
     "shell.execute_reply.started": "2024-07-13T14:37:35.546107Z"
    }
   },
   "outputs": [],
   "source": [
    "reg = LinearRegression()\n",
    "\n",
    "reg.fit(X_train_s, y_train)"
   ]
  },
  {
   "cell_type": "markdown",
   "metadata": {},
   "source": [
    "### Preparing Test Data"
   ]
  },
  {
   "cell_type": "code",
   "execution_count": null,
   "metadata": {
    "execution": {
     "iopub.execute_input": "2024-07-13T14:37:35.600195Z",
     "iopub.status.busy": "2024-07-13T14:37:35.598807Z",
     "iopub.status.idle": "2024-07-13T14:37:35.647509Z",
     "shell.execute_reply": "2024-07-13T14:37:35.646216Z",
     "shell.execute_reply.started": "2024-07-13T14:37:35.600147Z"
    }
   },
   "outputs": [],
   "source": [
    "test_data = X_test.join(y_test)\n",
    "\n",
    "test_data['total_rooms'] = np.log(test_data['total_rooms'] + 1)\n",
    "test_data['total_bedrooms'] = np.log(test_data['total_bedrooms'] + 1)\n",
    "test_data['population'] = np.log(test_data['population'] + 1)\n",
    "test_data['households'] = np.log(test_data['households'] + 1)\n",
    "\n",
    "test_data = test_data.join(pd.get_dummies(test_data.ocean_proximity)).drop(['ocean_proximity'], axis=1)\n",
    "\n",
    "test_data['bedroom_ratio'] = test_data['total_bedrooms'] / test_data['total_rooms']\n",
    "test_data['household_rooms'] = test_data['total_rooms'] / test_data['households']\n"
   ]
  },
  {
   "cell_type": "code",
   "execution_count": null,
   "metadata": {
    "execution": {
     "iopub.execute_input": "2024-07-13T14:37:35.649737Z",
     "iopub.status.busy": "2024-07-13T14:37:35.649268Z",
     "iopub.status.idle": "2024-07-13T14:37:35.70307Z",
     "shell.execute_reply": "2024-07-13T14:37:35.701666Z",
     "shell.execute_reply.started": "2024-07-13T14:37:35.6497Z"
    }
   },
   "outputs": [],
   "source": [
    "X_test, y_test = test_data.drop(['median_house_value'], axis=1), test_data['median_house_value']\n",
    "X_test_s = scaler.transform(X_test)\n",
    "\n",
    "reg.score(X_test_s, y_test)"
   ]
  },
  {
   "cell_type": "code",
   "execution_count": null,
   "metadata": {},
   "outputs": [],
   "source": [
    "import pickle\n",
    "with open('linear_regression_model.pkl', 'wb') as model_file:\n",
    "    pickle.dump(reg, model_file)\n",
    "with open('scaler.pkl', 'wb') as scaler_file:\n",
    "    pickle.dump(scaler, scaler_file)"
   ]
  }
 ],
 "metadata": {
  "kaggle": {
   "accelerator": "none",
   "dataSources": [
    {
     "datasetId": 1847,
     "sourceId": 3199,
     "sourceType": "datasetVersion"
    },
    {
     "datasetId": 5227,
     "sourceId": 7876,
     "sourceType": "datasetVersion"
    },
    {
     "datasetId": 840750,
     "sourceId": 1435124,
     "sourceType": "datasetVersion"
    },
    {
     "datasetId": 1951399,
     "sourceId": 3217351,
     "sourceType": "datasetVersion"
    },
    {
     "datasetId": 2438863,
     "sourceId": 4127308,
     "sourceType": "datasetVersion"
    }
   ],
   "dockerImageVersionId": 30746,
   "isGpuEnabled": false,
   "isInternetEnabled": false,
   "language": "python",
   "sourceType": "notebook"
  },
  "kernelspec": {
   "display_name": "Python 3 (ipykernel)",
   "language": "python",
   "name": "python3"
  },
  "language_info": {
   "codemirror_mode": {
    "name": "ipython",
    "version": 3
   },
   "file_extension": ".py",
   "mimetype": "text/x-python",
   "name": "python",
   "nbconvert_exporter": "python",
   "pygments_lexer": "ipython3",
   "version": "3.11.3"
  }
 },
 "nbformat": 4,
 "nbformat_minor": 4
}
